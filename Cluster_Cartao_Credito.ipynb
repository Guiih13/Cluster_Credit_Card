{
 "cells": [
  {
   "cell_type": "markdown",
   "metadata": {},
   "source": [
    "### Link do CSV: \n",
    "\n",
    "https://www.kaggle.com/arjunbhasin2013/ccdata\n",
    "\n",
    "---"
   ]
  },
  {
   "cell_type": "markdown",
   "metadata": {},
   "source": [
    "<p><font size=4>Este caso requer o desenvolvimento de uma segmentação de clientes para definir a estratégia de marketing. O conjunto de dados de amostra resume o comportamento de uso de cerca de 9.000 titulares de cartões de crédito ativos durante os últimos 6 meses.</font></p><br>\n",
    "\n",
    "<p><font size=4><strong>Colunas</strong></font></p>\n",
    "\n",
    "* <strong>CUSTID</strong> : Identification of Credit Card holder (Categorical)\n",
    "* <strong>BALANCE</strong> : Balance amount left in their account to make purchases (\n",
    "* <strong>BALANCEFREQUENCY</strong> : How frequently the Balance is updated, score between 0 and 1 (1 = frequently updated, 0 = not frequently updated)\n",
    "* <strong>PURCHASES</strong> : Amount of purchases made from account\n",
    "* <strong>ONEOFFPURCHASES</strong> : Maximum purchase amount done in one-go\n",
    "* <strong>INSTALLMENTSPURCHASES</strong> : Amount of purchase done in installment\n",
    "* <strong>CASHADVANCE</strong> : Cash in advance given by the user\n",
    "* <strong>PURCHASESFREQUENCY</strong> : How frequently the Purchases are being made, score between 0 and 1 (1 = frequently purchased, 0 = not frequently purchased)\n",
    "* <strong>ONEOFFPURCHASESFREQUENCY</strong> : How frequently Purchases are happening in one-go (1 = frequently purchased, 0 = not frequently purchased)\n",
    "* <strong>PURCHASESINSTALLMENTSFREQUENCY</strong> : How frequently purchases in installments are being done (1 = frequently done, 0 = not frequently done)\n",
    "* <strong>CASHADVANCEFREQUENCY</strong> : How frequently the cash in advance being paid\n",
    "* <strong>CASHADVANCETRX</strong> : Number of Transactions made with \"Cash in Advanced\"\n",
    "* <strong>PURCHASESTRX</strong> : Numbe of purchase transactions made\n",
    "* <strong>CREDITLIMIT</strong> : Limit of Credit Card for user\n",
    "* <strong>PAYMENTS</strong> : Amount of Payment done by user\n",
    "* <strong>MINIMUM_PAYMENTS</strong> : Minimum amount of payments made by user\n",
    "* <strong>PRCFULLPAYMENT</strong> : Percent of full payment paid by user\n",
    "* <strong>TENURE</strong> : Tenure of credit card service for user\n",
    "\n",
    "---"
   ]
  },
  {
   "cell_type": "markdown",
   "metadata": {},
   "source": [
    "## Pacotes"
   ]
  },
  {
   "cell_type": "code",
   "execution_count": 1,
   "metadata": {},
   "outputs": [],
   "source": [
    "# Processamento \n",
    "import pandas               as pd\n",
    "import numpy                as np\n",
    "\n",
    "# Visualização\n",
    "import matplotlib.pyplot    as plt\n",
    "import seaborn              as sns\n",
    "\n",
    "# Machine Learning\n",
    "from sklearn.preprocessing  import Normalizer\n",
    "from sklearn.cluster        import KMeans\n",
    "from sklearn                import metrics"
   ]
  },
  {
   "cell_type": "markdown",
   "metadata": {},
   "source": [
    "## Análises"
   ]
  },
  {
   "cell_type": "code",
   "execution_count": 2,
   "metadata": {},
   "outputs": [
    {
     "data": {
      "text/html": [
       "<div>\n",
       "<style scoped>\n",
       "    .dataframe tbody tr th:only-of-type {\n",
       "        vertical-align: middle;\n",
       "    }\n",
       "\n",
       "    .dataframe tbody tr th {\n",
       "        vertical-align: top;\n",
       "    }\n",
       "\n",
       "    .dataframe thead th {\n",
       "        text-align: right;\n",
       "    }\n",
       "</style>\n",
       "<table border=\"1\" class=\"dataframe\">\n",
       "  <thead>\n",
       "    <tr style=\"text-align: right;\">\n",
       "      <th></th>\n",
       "      <th>BALANCE</th>\n",
       "      <th>BALANCE_FREQUENCY</th>\n",
       "      <th>PURCHASES</th>\n",
       "      <th>ONEOFF_PURCHASES</th>\n",
       "      <th>INSTALLMENTS_PURCHASES</th>\n",
       "      <th>CASH_ADVANCE</th>\n",
       "      <th>PURCHASES_FREQUENCY</th>\n",
       "      <th>ONEOFF_PURCHASES_FREQUENCY</th>\n",
       "      <th>PURCHASES_INSTALLMENTS_FREQUENCY</th>\n",
       "      <th>CASH_ADVANCE_FREQUENCY</th>\n",
       "      <th>CASH_ADVANCE_TRX</th>\n",
       "      <th>PURCHASES_TRX</th>\n",
       "      <th>CREDIT_LIMIT</th>\n",
       "      <th>PAYMENTS</th>\n",
       "      <th>MINIMUM_PAYMENTS</th>\n",
       "      <th>PRC_FULL_PAYMENT</th>\n",
       "    </tr>\n",
       "  </thead>\n",
       "  <tbody>\n",
       "    <tr>\n",
       "      <th>0</th>\n",
       "      <td>40.900749</td>\n",
       "      <td>0.818182</td>\n",
       "      <td>95.40</td>\n",
       "      <td>0.00</td>\n",
       "      <td>95.4</td>\n",
       "      <td>0.000000</td>\n",
       "      <td>0.166667</td>\n",
       "      <td>0.000000</td>\n",
       "      <td>0.083333</td>\n",
       "      <td>0.000000</td>\n",
       "      <td>0</td>\n",
       "      <td>2</td>\n",
       "      <td>1000.0</td>\n",
       "      <td>201.802084</td>\n",
       "      <td>139.509787</td>\n",
       "      <td>0.000000</td>\n",
       "    </tr>\n",
       "    <tr>\n",
       "      <th>1</th>\n",
       "      <td>3202.467416</td>\n",
       "      <td>0.909091</td>\n",
       "      <td>0.00</td>\n",
       "      <td>0.00</td>\n",
       "      <td>0.0</td>\n",
       "      <td>6442.945483</td>\n",
       "      <td>0.000000</td>\n",
       "      <td>0.000000</td>\n",
       "      <td>0.000000</td>\n",
       "      <td>0.250000</td>\n",
       "      <td>4</td>\n",
       "      <td>0</td>\n",
       "      <td>7000.0</td>\n",
       "      <td>4103.032597</td>\n",
       "      <td>1072.340217</td>\n",
       "      <td>0.222222</td>\n",
       "    </tr>\n",
       "    <tr>\n",
       "      <th>2</th>\n",
       "      <td>2495.148862</td>\n",
       "      <td>1.000000</td>\n",
       "      <td>773.17</td>\n",
       "      <td>773.17</td>\n",
       "      <td>0.0</td>\n",
       "      <td>0.000000</td>\n",
       "      <td>1.000000</td>\n",
       "      <td>1.000000</td>\n",
       "      <td>0.000000</td>\n",
       "      <td>0.000000</td>\n",
       "      <td>0</td>\n",
       "      <td>12</td>\n",
       "      <td>7500.0</td>\n",
       "      <td>622.066742</td>\n",
       "      <td>627.284787</td>\n",
       "      <td>0.000000</td>\n",
       "    </tr>\n",
       "    <tr>\n",
       "      <th>3</th>\n",
       "      <td>1666.670542</td>\n",
       "      <td>0.636364</td>\n",
       "      <td>1499.00</td>\n",
       "      <td>1499.00</td>\n",
       "      <td>0.0</td>\n",
       "      <td>205.788017</td>\n",
       "      <td>0.083333</td>\n",
       "      <td>0.083333</td>\n",
       "      <td>0.000000</td>\n",
       "      <td>0.083333</td>\n",
       "      <td>1</td>\n",
       "      <td>1</td>\n",
       "      <td>7500.0</td>\n",
       "      <td>0.000000</td>\n",
       "      <td>NaN</td>\n",
       "      <td>0.000000</td>\n",
       "    </tr>\n",
       "    <tr>\n",
       "      <th>4</th>\n",
       "      <td>817.714335</td>\n",
       "      <td>1.000000</td>\n",
       "      <td>16.00</td>\n",
       "      <td>16.00</td>\n",
       "      <td>0.0</td>\n",
       "      <td>0.000000</td>\n",
       "      <td>0.083333</td>\n",
       "      <td>0.083333</td>\n",
       "      <td>0.000000</td>\n",
       "      <td>0.000000</td>\n",
       "      <td>0</td>\n",
       "      <td>1</td>\n",
       "      <td>1200.0</td>\n",
       "      <td>678.334763</td>\n",
       "      <td>244.791237</td>\n",
       "      <td>0.000000</td>\n",
       "    </tr>\n",
       "  </tbody>\n",
       "</table>\n",
       "</div>"
      ],
      "text/plain": [
       "       BALANCE  BALANCE_FREQUENCY  PURCHASES  ONEOFF_PURCHASES  \\\n",
       "0    40.900749           0.818182      95.40              0.00   \n",
       "1  3202.467416           0.909091       0.00              0.00   \n",
       "2  2495.148862           1.000000     773.17            773.17   \n",
       "3  1666.670542           0.636364    1499.00           1499.00   \n",
       "4   817.714335           1.000000      16.00             16.00   \n",
       "\n",
       "   INSTALLMENTS_PURCHASES  CASH_ADVANCE  PURCHASES_FREQUENCY  \\\n",
       "0                    95.4      0.000000             0.166667   \n",
       "1                     0.0   6442.945483             0.000000   \n",
       "2                     0.0      0.000000             1.000000   \n",
       "3                     0.0    205.788017             0.083333   \n",
       "4                     0.0      0.000000             0.083333   \n",
       "\n",
       "   ONEOFF_PURCHASES_FREQUENCY  PURCHASES_INSTALLMENTS_FREQUENCY  \\\n",
       "0                    0.000000                          0.083333   \n",
       "1                    0.000000                          0.000000   \n",
       "2                    1.000000                          0.000000   \n",
       "3                    0.083333                          0.000000   \n",
       "4                    0.083333                          0.000000   \n",
       "\n",
       "   CASH_ADVANCE_FREQUENCY  CASH_ADVANCE_TRX  PURCHASES_TRX  CREDIT_LIMIT  \\\n",
       "0                0.000000                 0              2        1000.0   \n",
       "1                0.250000                 4              0        7000.0   \n",
       "2                0.000000                 0             12        7500.0   \n",
       "3                0.083333                 1              1        7500.0   \n",
       "4                0.000000                 0              1        1200.0   \n",
       "\n",
       "      PAYMENTS  MINIMUM_PAYMENTS  PRC_FULL_PAYMENT  \n",
       "0   201.802084        139.509787          0.000000  \n",
       "1  4103.032597       1072.340217          0.222222  \n",
       "2   622.066742        627.284787          0.000000  \n",
       "3     0.000000               NaN          0.000000  \n",
       "4   678.334763        244.791237          0.000000  "
      ]
     },
     "execution_count": 2,
     "metadata": {},
     "output_type": "execute_result"
    }
   ],
   "source": [
    "# Lendo o CSV e excluindo as colunas CUST_ID e TENURE pois não serão utilizadas para as análises\n",
    "\n",
    "dataframe = pd.read_csv(\"CC GENERAL.csv\")\n",
    "dataframe.drop(columns=[\"CUST_ID\", \"TENURE\"], inplace=True)\n",
    "dataframe.head()"
   ]
  },
  {
   "cell_type": "code",
   "execution_count": 3,
   "metadata": {
    "scrolled": false
   },
   "outputs": [
    {
     "name": "stdout",
     "output_type": "stream",
     "text": [
      "BALANCE                               0\n",
      "BALANCE_FREQUENCY                     0\n",
      "PURCHASES                             0\n",
      "ONEOFF_PURCHASES                      0\n",
      "INSTALLMENTS_PURCHASES                0\n",
      "CASH_ADVANCE                          0\n",
      "PURCHASES_FREQUENCY                   0\n",
      "ONEOFF_PURCHASES_FREQUENCY            0\n",
      "PURCHASES_INSTALLMENTS_FREQUENCY      0\n",
      "CASH_ADVANCE_FREQUENCY                0\n",
      "CASH_ADVANCE_TRX                      0\n",
      "PURCHASES_TRX                         0\n",
      "CREDIT_LIMIT                          1\n",
      "PAYMENTS                              0\n",
      "MINIMUM_PAYMENTS                    313\n",
      "PRC_FULL_PAYMENT                      0\n",
      "dtype: int64\n"
     ]
    }
   ],
   "source": [
    "# Vendo as colunas quem contem NULL\n",
    "\n",
    "missing = dataframe.isna().sum()\n",
    "print(missing)"
   ]
  },
  {
   "cell_type": "code",
   "execution_count": 4,
   "metadata": {},
   "outputs": [
    {
     "name": "stdout",
     "output_type": "stream",
     "text": [
      "BALANCE                             0\n",
      "BALANCE_FREQUENCY                   0\n",
      "PURCHASES                           0\n",
      "ONEOFF_PURCHASES                    0\n",
      "INSTALLMENTS_PURCHASES              0\n",
      "CASH_ADVANCE                        0\n",
      "PURCHASES_FREQUENCY                 0\n",
      "ONEOFF_PURCHASES_FREQUENCY          0\n",
      "PURCHASES_INSTALLMENTS_FREQUENCY    0\n",
      "CASH_ADVANCE_FREQUENCY              0\n",
      "CASH_ADVANCE_TRX                    0\n",
      "PURCHASES_TRX                       0\n",
      "CREDIT_LIMIT                        0\n",
      "PAYMENTS                            0\n",
      "MINIMUM_PAYMENTS                    0\n",
      "PRC_FULL_PAYMENT                    0\n",
      "dtype: int64\n"
     ]
    }
   ],
   "source": [
    "# Preenchendo os valores nulos com as MEDIANA\n",
    "\n",
    "dataframe.fillna(dataframe.median(), inplace=True)\n",
    "missing = dataframe.isna().sum()\n",
    "print(missing)"
   ]
  },
  {
   "cell_type": "code",
   "execution_count": 5,
   "metadata": {},
   "outputs": [
    {
     "name": "stdout",
     "output_type": "stream",
     "text": [
      "[[3.93555441e-02 7.87271593e-04 9.17958473e-02 ... 1.94178127e-01\n",
      "  1.34239194e-01 0.00000000e+00]\n",
      " [2.93875903e-01 8.34231560e-05 0.00000000e+00 ... 3.76516684e-01\n",
      "  9.84037959e-02 2.03923046e-05]\n",
      " [3.10798149e-01 1.24560965e-04 9.63068011e-02 ... 7.74852335e-02\n",
      "  7.81351982e-02 0.00000000e+00]\n",
      " ...\n",
      " [2.27733092e-02 8.11060955e-04 1.40540698e-01 ... 7.90986945e-02\n",
      "  8.02156174e-02 2.43318384e-04]\n",
      " [2.65257948e-02 1.64255731e-03 0.00000000e+00 ... 1.03579625e-01\n",
      "  1.09898221e-01 4.92767391e-04]\n",
      " [1.86406219e-01 3.33426837e-04 5.46778061e-01 ... 3.15915455e-02\n",
      "  4.41568390e-02 0.00000000e+00]]\n"
     ]
    }
   ],
   "source": [
    "# Normalizando os valores\n",
    "\n",
    "values = Normalizer().fit_transform(dataframe.values)\n",
    "print(values)"
   ]
  },
  {
   "cell_type": "code",
   "execution_count": 6,
   "metadata": {},
   "outputs": [],
   "source": [
    "# Aplicando o KMEANS com 5 clusters e atribuindo as labels para uma váriavel\n",
    "\n",
    "kmeans = KMeans(n_clusters=5, n_init=10, max_iter=300)\n",
    "y_pred = kmeans.fit_predict(values)\n",
    "\n",
    "labels = kmeans.labels_"
   ]
  },
  {
   "cell_type": "markdown",
   "metadata": {},
   "source": [
    "### Silhouette"
   ]
  },
  {
   "cell_type": "code",
   "execution_count": 7,
   "metadata": {},
   "outputs": [
    {
     "name": "stdout",
     "output_type": "stream",
     "text": [
      "0.3643891019677421\n"
     ]
    }
   ],
   "source": [
    "silhouette = metrics.silhouette_score(values, labels, metric='euclidean')\n",
    "print(silhouette)"
   ]
  },
  {
   "cell_type": "markdown",
   "metadata": {},
   "source": [
    "### Davies Bouldin"
   ]
  },
  {
   "cell_type": "code",
   "execution_count": 8,
   "metadata": {},
   "outputs": [
    {
     "name": "stdout",
     "output_type": "stream",
     "text": [
      "1.0759284127085977\n"
     ]
    }
   ],
   "source": [
    "dbs = metrics.davies_bouldin_score(values, labels)\n",
    "print(dbs)"
   ]
  },
  {
   "cell_type": "markdown",
   "metadata": {},
   "source": [
    "### Calinski Harabszz"
   ]
  },
  {
   "cell_type": "code",
   "execution_count": 9,
   "metadata": {},
   "outputs": [
    {
     "name": "stdout",
     "output_type": "stream",
     "text": [
      "3431.776631279097\n"
     ]
    }
   ],
   "source": [
    "calinski = metrics.calinski_harabasz_score(values, labels)\n",
    "print(calinski)"
   ]
  },
  {
   "cell_type": "markdown",
   "metadata": {},
   "source": [
    "<font size=4><strong>Função para verificar se conforme aumente o número de cluester, os parâmetros avaliativos melhorem, afim de escolher a melhor quantidade de clusters.</strong></font>"
   ]
  },
  {
   "cell_type": "code",
   "execution_count": 10,
   "metadata": {},
   "outputs": [],
   "source": [
    "def clustering_algorithm(n_clusters, dataset):\n",
    "    kmeans = KMeans(n_clusters=n_clusters, n_init=10, max_iter=300)\n",
    "    labels = kmeans.fit_predict(dataset)\n",
    "    s = metrics.silhouette_score(dataset, labels, metric='euclidean')\n",
    "    dbs = metrics.davies_bouldin_score(dataset, labels)\n",
    "    calinski = metrics.calinski_harabasz_score(dataset, labels)\n",
    "    return s, dbs, calinski"
   ]
  },
  {
   "cell_type": "code",
   "execution_count": 11,
   "metadata": {},
   "outputs": [
    {
     "name": "stdout",
     "output_type": "stream",
     "text": [
      "0.3272203126696238 1.3096073640088428 3526.440519908274\n"
     ]
    }
   ],
   "source": [
    "# Com 3 clusters\n",
    "\n",
    "s1, dbs1, calinski1 = clustering_algorithm(3, values)\n",
    "print(s1, dbs1, calinski1)"
   ]
  },
  {
   "cell_type": "code",
   "execution_count": 12,
   "metadata": {},
   "outputs": [
    {
     "name": "stdout",
     "output_type": "stream",
     "text": [
      "0.3646088469759541 1.0753078627237762 3431.584051870429\n"
     ]
    }
   ],
   "source": [
    "# Com 5 clusters\n",
    "\n",
    "s2, dbs2, calinski2 = clustering_algorithm(5, values)\n",
    "print(s2, dbs2, calinski2)"
   ]
  },
  {
   "cell_type": "code",
   "execution_count": 13,
   "metadata": {},
   "outputs": [
    {
     "name": "stdout",
     "output_type": "stream",
     "text": [
      "0.24880243138386235 1.2457071976325818 1617.2255863234661\n"
     ]
    }
   ],
   "source": [
    "# Com 10 clusters\n",
    "\n",
    "s3, dbs3, calinski3 = clustering_algorithm(50, values)\n",
    "print(s3, dbs3, calinski3)"
   ]
  },
  {
   "cell_type": "markdown",
   "metadata": {},
   "source": [
    "<font size=4.5><strong>Usaremos 5 clusters por ter dado um resultado de Silhouette melhor.</strong></font>"
   ]
  },
  {
   "cell_type": "code",
   "execution_count": 14,
   "metadata": {},
   "outputs": [
    {
     "name": "stdout",
     "output_type": "stream",
     "text": [
      "0.039748441352062784 3.5150358594955096 303.43657819980933\n",
      "0.3646088469759541 1.0753078627237762 3431.584051870429\n"
     ]
    }
   ],
   "source": [
    "# Criaremos uma base de dados com valores randomicos, na mesma escala que nosso DataFrame original.\n",
    "# Mesma quantidade de linhas e colunas, afim de verificar a qualidade dos clusters.\n",
    "\n",
    "random_data = np.random.rand(8950, 16)\n",
    "s, dbs, calinski = clustering_algorithm(5, random_data)\n",
    "print(s, dbs, calinski)\n",
    "print(s2, dbs2, calinski2)"
   ]
  },
  {
   "cell_type": "code",
   "execution_count": 15,
   "metadata": {},
   "outputs": [
    {
     "name": "stdout",
     "output_type": "stream",
     "text": [
      "0.36897094584161894 1.0581656052369075 1204.0560966145406\n",
      "0.3533685733592382 1.1419144796646459 1194.933911559292\n",
      "0.3668564117315988 1.0993525253456347 1167.5313082261505\n"
     ]
    }
   ],
   "source": [
    "# Iremos dividir nosso DataFrame em 3 partes, e observar a qualidade dos parâmetros avaliativos.\n",
    "# Podemos notar que eles estão proporcionais, ou seja, nossos clusters foram formados corretamente.\n",
    "\n",
    "set1, set2, set3 = np.array_split(values, 3)\n",
    "s1, dbs1, calinski1 = clustering_algorithm(5, set1)\n",
    "s2, dbs2, calinski2 = clustering_algorithm(5, set2)\n",
    "s3, dbs3, calinski3 = clustering_algorithm(5, set3)\n",
    "print(s1, dbs1, calinski1)\n",
    "print(s2, dbs2, calinski2)\n",
    "print(s3, dbs3, calinski3)"
   ]
  },
  {
   "cell_type": "code",
   "execution_count": 16,
   "metadata": {},
   "outputs": [
    {
     "name": "stdout",
     "output_type": "stream",
     "text": [
      "[[3.33483624e-01 2.68969713e-04 1.59146477e-01 3.61931219e-02\n",
      "  1.23336164e-01 5.80731211e-02 1.67333390e-04 2.64804728e-05\n",
      "  1.47698430e-04 1.92281888e-05 4.25862512e-04 3.87053484e-03\n",
      "  3.77114118e-01 2.52735252e-01 6.78741705e-01 4.21940580e-06]\n",
      " [5.04105094e-01 2.72167105e-04 6.15438810e-02 3.61370321e-02\n",
      "  2.54285784e-02 2.53309289e-01 6.71965307e-05 2.56845751e-05\n",
      "  4.49251577e-05 5.74947541e-05 1.15819794e-03 1.32736701e-03\n",
      "  7.19252474e-01 1.66035311e-01 1.79161221e-01 5.52720859e-07]\n",
      " [6.91174009e-02 2.30606539e-04 1.21226581e-01 4.79772863e-02\n",
      "  7.33497068e-02 2.41947578e-02 1.72617514e-04 3.36929404e-05\n",
      "  1.40042773e-04 7.92242513e-06 1.23760508e-04 2.85805113e-03\n",
      "  9.43803334e-01 1.53494462e-01 5.68407863e-02 7.58440293e-05]\n",
      " [1.59970277e-01 2.45420653e-04 4.37832758e-01 2.56342445e-01\n",
      "  1.81661269e-01 2.57701902e-02 2.04632150e-04 8.87805917e-05\n",
      "  1.51042337e-04 9.36227386e-06 1.69268877e-04 6.17437812e-03\n",
      "  6.04822057e-01 4.02343053e-01 8.52508929e-02 7.25704005e-05]\n",
      " [2.35141479e-01 2.16555293e-04 6.03857074e-02 3.44170171e-02\n",
      "  2.59739049e-02 4.00128071e-01 5.26401668e-05 2.04882397e-05\n",
      "  3.51921361e-05 6.54864556e-05 1.57199032e-03 1.12217156e-03\n",
      "  5.35089146e-01 5.98040052e-01 1.04348171e-01 2.77498236e-05]]\n"
     ]
    }
   ],
   "source": [
    "# Para analisar os clusters formados, iremos observar a variância, afim de analisar somente as Features\n",
    "# que variaram.\n",
    "\n",
    "centroids = kmeans.cluster_centers_\n",
    "print(centroids)"
   ]
  },
  {
   "cell_type": "code",
   "execution_count": 17,
   "metadata": {},
   "outputs": [
    {
     "name": "stdout",
     "output_type": "stream",
     "text": [
      "BALANCE \n",
      "0.0224\n",
      "BALANCE_FREQUENCY \n",
      "0.0000\n",
      "PURCHASES \n",
      "0.0196\n",
      "ONEOFF_PURCHASES \n",
      "0.0076\n",
      "INSTALLMENTS_PURCHASES \n",
      "0.0036\n",
      "CASH_ADVANCE \n",
      "0.0226\n",
      "PURCHASES_FREQUENCY \n",
      "0.0000\n",
      "ONEOFF_PURCHASES_FREQUENCY \n",
      "0.0000\n",
      "PURCHASES_INSTALLMENTS_FREQUENCY \n",
      "0.0000\n",
      "CASH_ADVANCE_FREQUENCY \n",
      "0.0000\n",
      "CASH_ADVANCE_TRX \n",
      "0.0000\n",
      "PURCHASES_TRX \n",
      "0.0000\n",
      "CREDIT_LIMIT \n",
      "0.0360\n",
      "PAYMENTS \n",
      "0.0280\n",
      "MINIMUM_PAYMENTS \n",
      "0.0541\n",
      "PRC_FULL_PAYMENT \n",
      "0.0000\n"
     ]
    }
   ],
   "source": [
    "max = len(centroids[0])\n",
    "for i in range(max):\n",
    "    print(dataframe.columns.values[i],\"\\n{:.4f}\".format(centroids[:, i].var()))"
   ]
  },
  {
   "cell_type": "code",
   "execution_count": 25,
   "metadata": {},
   "outputs": [
    {
     "name": "stdout",
     "output_type": "stream",
     "text": [
      "             BALANCE    PURCHASES  CASH_ADVANCE  CREDIT_LIMIT     PAYMENTS  \\\n",
      "cluster                                                                      \n",
      "0        1987.146873   858.326286    420.107194   2226.699029  1338.974045   \n",
      "1        3034.218419   381.722765   1638.154020   4489.875331   966.280942   \n",
      "2         444.146902   628.970831    141.666342   5135.052448   814.094493   \n",
      "3        1148.959844  3267.501781    182.614490   4107.357611  3035.900502   \n",
      "4        1794.024195   475.494823   3270.246792   3976.372399  4709.556601   \n",
      "\n",
      "         n_clients  \n",
      "cluster             \n",
      "0              412  \n",
      "1             2647  \n",
      "2             3275  \n",
      "3             1544  \n",
      "4             1072  \n"
     ]
    }
   ],
   "source": [
    "# Iremos agrupar por cluster, e observar os valores médios das Features que tiveram variância > 1.\n",
    "\n",
    "dataframe[\"cluster\"] = labels\n",
    "description = dataframe.groupby(\"cluster\")[[\"BALANCE\", \"PURCHASES\", \"CASH_ADVANCE\", \"CREDIT_LIMIT\", \"PAYMENTS\"]]\n",
    "n_clients = description.size()\n",
    "description = description.mean()\n",
    "description['n_clients'] = n_clients\n",
    "print(description)"
   ]
  },
  {
   "cell_type": "markdown",
   "metadata": {},
   "source": [
    "## Conclusões"
   ]
  },
  {
   "cell_type": "markdown",
   "metadata": {},
   "source": [
    "<strong>CLUSTER 0</strong>: Clientes que gastam pouco. Clientes com o maior limite. Bons pagadores. Maior número de clientes.\n",
    "\n",
    "<strong>CLUSTER 1</strong>: Clientes que mais gastam. O foco deles é o saque. Piores pagadores. Boa quantidade de clientes.\n",
    "\n",
    "<strong>CLUSTER 2</strong>: Clientes que gastam muito com compras. Melhores pagadores.\n",
    "\n",
    "<strong>CLUSTER 3</strong>: Clientes que gastam muito com saques. Pagam as vezes.\n",
    "\n",
    "<strong>CLUSTER 4</strong>: Clientes com o menor limite. Não são bons pagadores. Menor quantidade de clientes."
   ]
  },
  {
   "cell_type": "code",
   "execution_count": 26,
   "metadata": {},
   "outputs": [
    {
     "data": {
      "text/html": [
       "<div>\n",
       "<style scoped>\n",
       "    .dataframe tbody tr th:only-of-type {\n",
       "        vertical-align: middle;\n",
       "    }\n",
       "\n",
       "    .dataframe tbody tr th {\n",
       "        vertical-align: top;\n",
       "    }\n",
       "\n",
       "    .dataframe thead th {\n",
       "        text-align: right;\n",
       "    }\n",
       "</style>\n",
       "<table border=\"1\" class=\"dataframe\">\n",
       "  <thead>\n",
       "    <tr style=\"text-align: right;\">\n",
       "      <th></th>\n",
       "      <th>count</th>\n",
       "      <th>mean</th>\n",
       "      <th>std</th>\n",
       "      <th>min</th>\n",
       "      <th>25%</th>\n",
       "      <th>50%</th>\n",
       "      <th>75%</th>\n",
       "      <th>max</th>\n",
       "    </tr>\n",
       "    <tr>\n",
       "      <th>cluster</th>\n",
       "      <th></th>\n",
       "      <th></th>\n",
       "      <th></th>\n",
       "      <th></th>\n",
       "      <th></th>\n",
       "      <th></th>\n",
       "      <th></th>\n",
       "      <th></th>\n",
       "    </tr>\n",
       "  </thead>\n",
       "  <tbody>\n",
       "    <tr>\n",
       "      <th>0</th>\n",
       "      <td>412.0</td>\n",
       "      <td>0.019271</td>\n",
       "      <td>0.090795</td>\n",
       "      <td>0.0</td>\n",
       "      <td>0.0</td>\n",
       "      <td>0.000000</td>\n",
       "      <td>0.000000</td>\n",
       "      <td>1.0</td>\n",
       "    </tr>\n",
       "    <tr>\n",
       "      <th>1</th>\n",
       "      <td>2647.0</td>\n",
       "      <td>0.001800</td>\n",
       "      <td>0.023269</td>\n",
       "      <td>0.0</td>\n",
       "      <td>0.0</td>\n",
       "      <td>0.000000</td>\n",
       "      <td>0.000000</td>\n",
       "      <td>0.6</td>\n",
       "    </tr>\n",
       "    <tr>\n",
       "      <th>2</th>\n",
       "      <td>3275.0</td>\n",
       "      <td>0.246368</td>\n",
       "      <td>0.346480</td>\n",
       "      <td>0.0</td>\n",
       "      <td>0.0</td>\n",
       "      <td>0.000000</td>\n",
       "      <td>0.444444</td>\n",
       "      <td>1.0</td>\n",
       "    </tr>\n",
       "    <tr>\n",
       "      <th>3</th>\n",
       "      <td>1544.0</td>\n",
       "      <td>0.278724</td>\n",
       "      <td>0.367326</td>\n",
       "      <td>0.0</td>\n",
       "      <td>0.0</td>\n",
       "      <td>0.083333</td>\n",
       "      <td>0.545455</td>\n",
       "      <td>1.0</td>\n",
       "    </tr>\n",
       "    <tr>\n",
       "      <th>4</th>\n",
       "      <td>1072.0</td>\n",
       "      <td>0.117384</td>\n",
       "      <td>0.186853</td>\n",
       "      <td>0.0</td>\n",
       "      <td>0.0</td>\n",
       "      <td>0.083333</td>\n",
       "      <td>0.142857</td>\n",
       "      <td>1.0</td>\n",
       "    </tr>\n",
       "  </tbody>\n",
       "</table>\n",
       "</div>"
      ],
      "text/plain": [
       "          count      mean       std  min  25%       50%       75%  max\n",
       "cluster                                                               \n",
       "0         412.0  0.019271  0.090795  0.0  0.0  0.000000  0.000000  1.0\n",
       "1        2647.0  0.001800  0.023269  0.0  0.0  0.000000  0.000000  0.6\n",
       "2        3275.0  0.246368  0.346480  0.0  0.0  0.000000  0.444444  1.0\n",
       "3        1544.0  0.278724  0.367326  0.0  0.0  0.083333  0.545455  1.0\n",
       "4        1072.0  0.117384  0.186853  0.0  0.0  0.083333  0.142857  1.0"
      ]
     },
     "execution_count": 26,
     "metadata": {},
     "output_type": "execute_result"
    }
   ],
   "source": [
    "dataframe.groupby(\"cluster\")[\"PRC_FULL_PAYMENT\"].describe()"
   ]
  }
 ],
 "metadata": {
  "kernelspec": {
   "display_name": "Python 3",
   "language": "python",
   "name": "python3"
  },
  "language_info": {
   "codemirror_mode": {
    "name": "ipython",
    "version": 3
   },
   "file_extension": ".py",
   "mimetype": "text/x-python",
   "name": "python",
   "nbconvert_exporter": "python",
   "pygments_lexer": "ipython3",
   "version": "3.9.1"
  }
 },
 "nbformat": 4,
 "nbformat_minor": 2
}
